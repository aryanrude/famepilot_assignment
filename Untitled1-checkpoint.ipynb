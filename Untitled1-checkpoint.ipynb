{
 "cells": [
  {
   "cell_type": "code",
   "execution_count": 13,
   "id": "6cd40ddb",
   "metadata": {},
   "outputs": [
    {
     "name": "stdout",
     "output_type": "stream",
     "text": [
      "1\n",
      "-10\n",
      "24\n",
      " real and different roots \n",
      "6.0\n",
      "4.0\n"
     ]
    }
   ],
   "source": [
    "import math \n",
    "  \n",
    "a = int(input())\n",
    "b=int(input())\n",
    "c=int(input())\n",
    "if a == 0: \n",
    "        print(\"Incorrect input\") \n",
    "else:\n",
    "    equationroots(a, b, c)  \n",
    "# function for find roots \n",
    "\n",
    "def equationroots( a, b, c): \n",
    "  \n",
    "   \n",
    "    root = b * b - 4 * a * c \n",
    "    square_val = math.sqrt(abs(root)) \n",
    "      \n",
    "   \n",
    "    if root > 0: \n",
    "        print(\" real and different roots \") \n",
    "        print((-b +square_val)/(2 * a)) \n",
    "        print((-b - square_val)/(2 * a)) \n",
    "      \n",
    "    elif root == 0: \n",
    "        print(\"same roots\") \n",
    "        print(-b / (2 * a)) \n",
    "      \n",
    "    \n",
    "    else:\n",
    "        print(\"Complex Roots\") \n",
    "        print(- b / (2 * a), \" + i\", square_val) \n",
    "        print(- b / (2 * a), \" - i\", square_val) \n",
    "\n"
   ]
  },
  {
   "cell_type": "code",
   "execution_count": null,
   "id": "0f5acd7c",
   "metadata": {},
   "outputs": [],
   "source": []
  },
  {
   "cell_type": "code",
   "execution_count": null,
   "id": "c21a3aa8",
   "metadata": {},
   "outputs": [],
   "source": []
  }
 ],
 "metadata": {
  "kernelspec": {
   "display_name": "Python 3",
   "language": "python",
   "name": "python3"
  },
  "language_info": {
   "codemirror_mode": {
    "name": "ipython",
    "version": 3
   },
   "file_extension": ".py",
   "mimetype": "text/x-python",
   "name": "python",
   "nbconvert_exporter": "python",
   "pygments_lexer": "ipython3",
   "version": "3.8.8"
  }
 },
 "nbformat": 4,
 "nbformat_minor": 5
}
